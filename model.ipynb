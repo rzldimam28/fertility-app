{
 "cells": [
  {
   "cell_type": "code",
   "execution_count": 7,
   "id": "exciting-champagne",
   "metadata": {},
   "outputs": [],
   "source": [
    "import numpy as np\n",
    "import pandas as pd\n",
    "from matplotlib import pyplot as plt\n",
    "import seaborn as sns\n",
    "import pickle"
   ]
  },
  {
   "cell_type": "code",
   "execution_count": 2,
   "id": "functional-advice",
   "metadata": {},
   "outputs": [
    {
     "output_type": "execute_result",
     "data": {
      "text/plain": [
       "   season  age child_disease trauma surgical                  fevers  \\\n",
       "0  spring   30            no    yes      yes  more than 3 months ago   \n",
       "1  spring   35           yes     no      yes  more than 3 months ago   \n",
       "2  spring   27           yes     no       no  more than 3 months ago   \n",
       "3  spring   32            no    yes      yes  more than 3 months ago   \n",
       "4  spring   30           yes    yes       no  more than 3 months ago   \n",
       "\n",
       "                alcohol     smoking  sitting_hours fertility  \n",
       "0           once a week  occasional             16    Normal  \n",
       "1           once a week       daily              6   Altered  \n",
       "2  hardly ever or never       never              9    Normal  \n",
       "3  hardly ever or never       never              7    Normal  \n",
       "4           once a week       never              9   Altered  "
      ],
      "text/html": "<div>\n<style scoped>\n    .dataframe tbody tr th:only-of-type {\n        vertical-align: middle;\n    }\n\n    .dataframe tbody tr th {\n        vertical-align: top;\n    }\n\n    .dataframe thead th {\n        text-align: right;\n    }\n</style>\n<table border=\"1\" class=\"dataframe\">\n  <thead>\n    <tr style=\"text-align: right;\">\n      <th></th>\n      <th>season</th>\n      <th>age</th>\n      <th>child_disease</th>\n      <th>trauma</th>\n      <th>surgical</th>\n      <th>fevers</th>\n      <th>alcohol</th>\n      <th>smoking</th>\n      <th>sitting_hours</th>\n      <th>fertility</th>\n    </tr>\n  </thead>\n  <tbody>\n    <tr>\n      <th>0</th>\n      <td>spring</td>\n      <td>30</td>\n      <td>no</td>\n      <td>yes</td>\n      <td>yes</td>\n      <td>more than 3 months ago</td>\n      <td>once a week</td>\n      <td>occasional</td>\n      <td>16</td>\n      <td>Normal</td>\n    </tr>\n    <tr>\n      <th>1</th>\n      <td>spring</td>\n      <td>35</td>\n      <td>yes</td>\n      <td>no</td>\n      <td>yes</td>\n      <td>more than 3 months ago</td>\n      <td>once a week</td>\n      <td>daily</td>\n      <td>6</td>\n      <td>Altered</td>\n    </tr>\n    <tr>\n      <th>2</th>\n      <td>spring</td>\n      <td>27</td>\n      <td>yes</td>\n      <td>no</td>\n      <td>no</td>\n      <td>more than 3 months ago</td>\n      <td>hardly ever or never</td>\n      <td>never</td>\n      <td>9</td>\n      <td>Normal</td>\n    </tr>\n    <tr>\n      <th>3</th>\n      <td>spring</td>\n      <td>32</td>\n      <td>no</td>\n      <td>yes</td>\n      <td>yes</td>\n      <td>more than 3 months ago</td>\n      <td>hardly ever or never</td>\n      <td>never</td>\n      <td>7</td>\n      <td>Normal</td>\n    </tr>\n    <tr>\n      <th>4</th>\n      <td>spring</td>\n      <td>30</td>\n      <td>yes</td>\n      <td>yes</td>\n      <td>no</td>\n      <td>more than 3 months ago</td>\n      <td>once a week</td>\n      <td>never</td>\n      <td>9</td>\n      <td>Altered</td>\n    </tr>\n  </tbody>\n</table>\n</div>"
     },
     "metadata": {},
     "execution_count": 2
    }
   ],
   "source": [
    "df = pd.read_csv('data/fertility.csv', header=0, names=['season', 'age', 'child_disease', 'trauma', 'surgical', 'fevers',\n",
    "                                                           'alcohol', 'smoking', 'sitting_hours', 'fertility'])\n",
    "df.head()"
   ]
  },
  {
   "cell_type": "code",
   "execution_count": 3,
   "id": "military-modification",
   "metadata": {},
   "outputs": [
    {
     "data": {
      "text/plain": [
       "'\\nATTRIBUTE INFORMATION\\n\\nSeason in which the analysis was performed. 1) winter, 2) spring, 3) Summer, 4) fall. (-1, -0.33, 0.33, 1) #OH\\nAge at the time of analysis. 18-36\\nChildish diseases (ie , chicken pox, measles, mumps, polio) 1) yes, 2) no. (0, 1) #OH\\nAccident or serious trauma 1) yes, 2) no. (0, 1) #)H\\nSurgical intervention 1) yes, 2) no. (0, 1) #OH\\nHigh fevers in the last year 1) less than three months ago, 2) more than three months ago, 3) no. (-1, 0, 1) #label\\nFrequency of alcohol consumption 1) several times a day, 2) every day, 3) several times a week, 4) once a week, \\n            5) hardly ever or never (0, 1) \\nSmoking habit 1) never, 2) occasional 3) daily. (-1, 0, 1)\\nNumber of hours spent sitting per day ene-16 (0, 1)\\nOutput: Diagnosis normal (N), altered (O)\\n'"
      ]
     },
     "execution_count": 3,
     "metadata": {},
     "output_type": "execute_result"
    }
   ],
   "source": [
    "'''\n",
    "ATTRIBUTE INFORMATION\n",
    "\n",
    "Season in which the analysis was performed. 1) winter, 2) spring, 3) Summer, 4) fall. (-1, -0.33, 0.33, 1) #OH\n",
    "Age at the time of analysis. 18-36\n",
    "Childish diseases (ie , chicken pox, measles, mumps, polio) 1) yes, 2) no. (0, 1) #OH\n",
    "Accident or serious trauma 1) yes, 2) no. (0, 1) #)H\n",
    "Surgical intervention 1) yes, 2) no. (0, 1) #OH\n",
    "High fevers in the last year 1) less than three months ago, 2) more than three months ago, 3) no. (-1, 0, 1) #label\n",
    "Frequency of alcohol consumption 1) several times a day, 2) every day, 3) several times a week, 4) once a week, \n",
    "            5) hardly ever or never (0, 1) \n",
    "Smoking habit 1) never, 2) occasional 3) daily. (-1, 0, 1)\n",
    "Number of hours spent sitting per day ene-16 (0, 1)\n",
    "Output: Diagnosis normal (N), altered (O)\n",
    "'''"
   ]
  },
  {
   "cell_type": "code",
   "execution_count": 3,
   "id": "intimate-relation",
   "metadata": {},
   "outputs": [
    {
     "data": {
      "text/html": [
       "<div>\n",
       "<style scoped>\n",
       "    .dataframe tbody tr th:only-of-type {\n",
       "        vertical-align: middle;\n",
       "    }\n",
       "\n",
       "    .dataframe tbody tr th {\n",
       "        vertical-align: top;\n",
       "    }\n",
       "\n",
       "    .dataframe thead th {\n",
       "        text-align: right;\n",
       "    }\n",
       "</style>\n",
       "<table border=\"1\" class=\"dataframe\">\n",
       "  <thead>\n",
       "    <tr style=\"text-align: right;\">\n",
       "      <th></th>\n",
       "      <th>child_disease</th>\n",
       "      <th>trauma</th>\n",
       "      <th>surgical</th>\n",
       "      <th>alcohol</th>\n",
       "      <th>smoking</th>\n",
       "      <th>sitting_hours</th>\n",
       "      <th>fertility</th>\n",
       "    </tr>\n",
       "  </thead>\n",
       "  <tbody>\n",
       "    <tr>\n",
       "      <th>0</th>\n",
       "      <td>no</td>\n",
       "      <td>yes</td>\n",
       "      <td>yes</td>\n",
       "      <td>once a week</td>\n",
       "      <td>occasional</td>\n",
       "      <td>16</td>\n",
       "      <td>Normal</td>\n",
       "    </tr>\n",
       "    <tr>\n",
       "      <th>1</th>\n",
       "      <td>yes</td>\n",
       "      <td>no</td>\n",
       "      <td>yes</td>\n",
       "      <td>once a week</td>\n",
       "      <td>daily</td>\n",
       "      <td>6</td>\n",
       "      <td>Altered</td>\n",
       "    </tr>\n",
       "    <tr>\n",
       "      <th>2</th>\n",
       "      <td>yes</td>\n",
       "      <td>no</td>\n",
       "      <td>no</td>\n",
       "      <td>hardly ever or never</td>\n",
       "      <td>never</td>\n",
       "      <td>9</td>\n",
       "      <td>Normal</td>\n",
       "    </tr>\n",
       "    <tr>\n",
       "      <th>3</th>\n",
       "      <td>no</td>\n",
       "      <td>yes</td>\n",
       "      <td>yes</td>\n",
       "      <td>hardly ever or never</td>\n",
       "      <td>never</td>\n",
       "      <td>7</td>\n",
       "      <td>Normal</td>\n",
       "    </tr>\n",
       "    <tr>\n",
       "      <th>4</th>\n",
       "      <td>yes</td>\n",
       "      <td>yes</td>\n",
       "      <td>no</td>\n",
       "      <td>once a week</td>\n",
       "      <td>never</td>\n",
       "      <td>9</td>\n",
       "      <td>Altered</td>\n",
       "    </tr>\n",
       "  </tbody>\n",
       "</table>\n",
       "</div>"
      ],
      "text/plain": [
       "  child_disease trauma surgical               alcohol     smoking  \\\n",
       "0            no    yes      yes           once a week  occasional   \n",
       "1           yes     no      yes           once a week       daily   \n",
       "2           yes     no       no  hardly ever or never       never   \n",
       "3            no    yes      yes  hardly ever or never       never   \n",
       "4           yes    yes       no           once a week       never   \n",
       "\n",
       "   sitting_hours fertility  \n",
       "0             16    Normal  \n",
       "1              6   Altered  \n",
       "2              9    Normal  \n",
       "3              7    Normal  \n",
       "4              9   Altered  "
      ]
     },
     "execution_count": 3,
     "metadata": {},
     "output_type": "execute_result"
    }
   ],
   "source": [
    "df.drop(['season', 'age', 'fevers'], axis=1, inplace=True)\n",
    "df.head()"
   ]
  },
  {
   "cell_type": "code",
   "execution_count": null,
   "id": "middle-surname",
   "metadata": {},
   "outputs": [],
   "source": [
    "cat_col = df.drop('sitting_hours', axis=1)\n",
    "\n",
    "for col in cat_col:\n",
    "    sns.countplot(y=cat_col[col])\n",
    "    plt.title('{}'.format(col))\n",
    "    plt.show()"
   ]
  },
  {
   "cell_type": "code",
   "execution_count": 9,
   "id": "future-notebook",
   "metadata": {},
   "outputs": [
    {
     "name": "stdout",
     "output_type": "stream",
     "text": [
      "yes    87\n",
      "no     13\n",
      "Name: child_disease, dtype: int64\n",
      "--------------------\n",
      "no     56\n",
      "yes    44\n",
      "Name: trauma, dtype: int64\n",
      "--------------------\n",
      "yes    51\n",
      "no     49\n",
      "Name: surgical, dtype: int64\n",
      "--------------------\n"
     ]
    }
   ],
   "source": [
    "for col in ['child_disease', 'trauma', 'surgical']:\n",
    "    print(df[col].value_counts())\n",
    "    print('-' * 20)"
   ]
  },
  {
   "cell_type": "code",
   "execution_count": 10,
   "id": "actual-cambridge",
   "metadata": {},
   "outputs": [],
   "source": [
    "# label encoding for ordinal features (manually)\n",
    "\n",
    "df['alcohol'].replace(['every day', 'several times a day', 'several times a week', 'once a week', 'hardly ever or never'],\n",
    "                      [0, 1, 2, 3, 4], inplace=True)\n",
    "df['smoking'].replace(['daily', 'occasional', 'never'],\n",
    "                      [0, 1, 2], inplace=True)\n",
    "for col in ['child_disease', 'trauma', 'surgical']:\n",
    "    df[col].replace(['no', 'yes'], [0, 1], inplace=True)"
   ]
  },
  {
   "cell_type": "code",
   "execution_count": 11,
   "id": "wicked-mustang",
   "metadata": {},
   "outputs": [
    {
     "data": {
      "text/html": [
       "<div>\n",
       "<style scoped>\n",
       "    .dataframe tbody tr th:only-of-type {\n",
       "        vertical-align: middle;\n",
       "    }\n",
       "\n",
       "    .dataframe tbody tr th {\n",
       "        vertical-align: top;\n",
       "    }\n",
       "\n",
       "    .dataframe thead th {\n",
       "        text-align: right;\n",
       "    }\n",
       "</style>\n",
       "<table border=\"1\" class=\"dataframe\">\n",
       "  <thead>\n",
       "    <tr style=\"text-align: right;\">\n",
       "      <th></th>\n",
       "      <th>child_disease</th>\n",
       "      <th>trauma</th>\n",
       "      <th>surgical</th>\n",
       "      <th>alcohol</th>\n",
       "      <th>smoking</th>\n",
       "      <th>sitting_hours</th>\n",
       "      <th>fertility</th>\n",
       "    </tr>\n",
       "  </thead>\n",
       "  <tbody>\n",
       "    <tr>\n",
       "      <th>0</th>\n",
       "      <td>0</td>\n",
       "      <td>1</td>\n",
       "      <td>1</td>\n",
       "      <td>3</td>\n",
       "      <td>1</td>\n",
       "      <td>16</td>\n",
       "      <td>Normal</td>\n",
       "    </tr>\n",
       "    <tr>\n",
       "      <th>1</th>\n",
       "      <td>1</td>\n",
       "      <td>0</td>\n",
       "      <td>1</td>\n",
       "      <td>3</td>\n",
       "      <td>0</td>\n",
       "      <td>6</td>\n",
       "      <td>Altered</td>\n",
       "    </tr>\n",
       "    <tr>\n",
       "      <th>2</th>\n",
       "      <td>1</td>\n",
       "      <td>0</td>\n",
       "      <td>0</td>\n",
       "      <td>4</td>\n",
       "      <td>2</td>\n",
       "      <td>9</td>\n",
       "      <td>Normal</td>\n",
       "    </tr>\n",
       "    <tr>\n",
       "      <th>3</th>\n",
       "      <td>0</td>\n",
       "      <td>1</td>\n",
       "      <td>1</td>\n",
       "      <td>4</td>\n",
       "      <td>2</td>\n",
       "      <td>7</td>\n",
       "      <td>Normal</td>\n",
       "    </tr>\n",
       "    <tr>\n",
       "      <th>4</th>\n",
       "      <td>1</td>\n",
       "      <td>1</td>\n",
       "      <td>0</td>\n",
       "      <td>3</td>\n",
       "      <td>2</td>\n",
       "      <td>9</td>\n",
       "      <td>Altered</td>\n",
       "    </tr>\n",
       "  </tbody>\n",
       "</table>\n",
       "</div>"
      ],
      "text/plain": [
       "   child_disease  trauma  surgical  alcohol  smoking  sitting_hours fertility\n",
       "0              0       1         1        3        1             16    Normal\n",
       "1              1       0         1        3        0              6   Altered\n",
       "2              1       0         0        4        2              9    Normal\n",
       "3              0       1         1        4        2              7    Normal\n",
       "4              1       1         0        3        2              9   Altered"
      ]
     },
     "execution_count": 11,
     "metadata": {},
     "output_type": "execute_result"
    }
   ],
   "source": [
    "df.head()"
   ]
  },
  {
   "cell_type": "code",
   "execution_count": 13,
   "id": "satisfied-plasma",
   "metadata": {},
   "outputs": [],
   "source": [
    "X = df.drop('fertility', axis=1)\n",
    "y = df['fertility']"
   ]
  },
  {
   "cell_type": "code",
   "execution_count": 14,
   "id": "dying-performance",
   "metadata": {},
   "outputs": [],
   "source": [
    "from sklearn.model_selection import train_test_split\n",
    "\n",
    "X_train, X_test, y_train, y_test = train_test_split(X, y, test_size=0.2, random_state=18)"
   ]
  },
  {
   "cell_type": "code",
   "execution_count": 15,
   "id": "alien-bread",
   "metadata": {},
   "outputs": [
    {
     "data": {
      "text/plain": [
       "LogisticRegression(random_state=18)"
      ]
     },
     "execution_count": 15,
     "metadata": {},
     "output_type": "execute_result"
    }
   ],
   "source": [
    "from sklearn.linear_model import LogisticRegression\n",
    "\n",
    "model = LogisticRegression(random_state=18)\n",
    "model.fit(X_train, y_train)"
   ]
  },
  {
   "cell_type": "code",
   "execution_count": 16,
   "id": "rental-beginning",
   "metadata": {},
   "outputs": [
    {
     "name": "stdout",
     "output_type": "stream",
     "text": [
      "[[ 0  2]\n",
      " [ 0 18]]\n",
      "The model accuracy is 0.9\n"
     ]
    }
   ],
   "source": [
    "from sklearn.metrics import confusion_matrix\n",
    "from sklearn.metrics import accuracy_score\n",
    "\n",
    "y_pred = model.predict(X_test)\n",
    "print(confusion_matrix(y_test, y_pred))\n",
    "print('The model accuracy is {}'.format(accuracy_score(y_test, y_pred)))"
   ]
  },
  {
   "cell_type": "code",
   "execution_count": 17,
   "id": "possible-tackle",
   "metadata": {},
   "outputs": [
    {
     "name": "stdout",
     "output_type": "stream",
     "text": [
      "the precision score is 0.9\n",
      "the recall score is 1.0\n"
     ]
    }
   ],
   "source": [
    "from sklearn.metrics import precision_score\n",
    "from sklearn.metrics import recall_score\n",
    "\n",
    "precision = precision_score(y_test, y_pred, average='binary', pos_label='Normal')\n",
    "recall = recall_score(y_test, y_pred, average='binary', pos_label='Normal')\n",
    "\n",
    "print('the precision score is {}'.format(precision))\n",
    "print('the recall score is {}'.format(recall))"
   ]
  },
  {
   "cell_type": "code",
   "execution_count": 14,
   "id": "personal-platinum",
   "metadata": {},
   "outputs": [],
   "source": [
    "model_name = 'logreg_model.pkl'\n",
    "pickle.dump(model, open(model_name))"
   ]
  },
  {
   "cell_type": "code",
   "execution_count": 42,
   "metadata": {},
   "outputs": [
    {
     "output_type": "stream",
     "name": "stdout",
     "text": [
      "KLASIFIKASI\n['Altered']\nPELUANG\n57.18\nYou Have 57.18 Probabilities of Having a Altered Fertility\n"
     ]
    }
   ],
   "source": [
    "model = pickle.load(open(\"logreg_model.pkl\", \"rb\"))\n",
    "a = [[0, 0, 0, 0, 0, 11], [1, 2, 3, 1, 0, 11]]\n",
    "print('KLASIFIKASI')\n",
    "print(model.predict(np.array(a[0]).reshape(1, -1)))\n",
    "print('PELUANG')\n",
    "peluang_normal = round(model.predict_proba((np.array(a[0]).reshape(1, -1)))[0][0] * 100, 2)\n",
    "print(peluang_normal)\n",
    "print('You Have {} Probabilities of Having a Altered Fertility'.format(peluang_normal))"
   ]
  },
  {
   "cell_type": "code",
   "execution_count": null,
   "metadata": {},
   "outputs": [],
   "source": []
  }
 ],
 "metadata": {
  "kernelspec": {
   "display_name": "Python 3",
   "language": "python",
   "name": "python3"
  },
  "language_info": {
   "codemirror_mode": {
    "name": "ipython",
    "version": 3
   },
   "file_extension": ".py",
   "mimetype": "text/x-python",
   "name": "python",
   "nbconvert_exporter": "python",
   "pygments_lexer": "ipython3",
   "version": "3.9.1-final"
  }
 },
 "nbformat": 4,
 "nbformat_minor": 5
}